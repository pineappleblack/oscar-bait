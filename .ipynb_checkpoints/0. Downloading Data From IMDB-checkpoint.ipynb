{
 "cells": [
  {
   "cell_type": "code",
   "execution_count": 1,
   "metadata": {},
   "outputs": [],
   "source": [
    "# I recommend to use multiple threads because download is nightmare slow"
   ]
  },
  {
   "cell_type": "code",
   "execution_count": null,
   "metadata": {},
   "outputs": [],
   "source": [
    "from imdb import IMDb\n",
    "from tqdm import tqdm_notebook\n",
    "\n",
    "import os\n",
    "import pickle"
   ]
  },
  {
   "cell_type": "code",
   "execution_count": null,
   "metadata": {},
   "outputs": [],
   "source": [
    "ia = IMDb()"
   ]
  },
  {
   "cell_type": "code",
   "execution_count": null,
   "metadata": {},
   "outputs": [],
   "source": [
    "# You need all the film ids you want to download\n",
    "with open('ids.txt') as f:\n",
    "    ids = [el.strip() for el in f]"
   ]
  },
  {
   "cell_type": "code",
   "execution_count": null,
   "metadata": {},
   "outputs": [],
   "source": [
    "filenames = os.listdir('new_data')"
   ]
  },
  {
   "cell_type": "code",
   "execution_count": null,
   "metadata": {},
   "outputs": [],
   "source": [
    "for movie_id in tqdm_notebook(ids):\n",
    "    \n",
    "    if f'{movie_id}.pickle' not in filenames:\n",
    "        movie = ia.get_movie(movie_id)\n",
    "        ia.update(movie, ['awards', 'release dates', 'full credits', 'technical', 'locations', 'keywords', 'parents guide'])\n",
    "        \n",
    "        movie_data = {}\n",
    "\n",
    "        for keyword in ['awards', 'release dates', 'cast', 'technical', 'director', 'writer', 'box office', \n",
    "                        'distributors', 'genres', 'akas', 'keywords', 'mpaa', 'certificates']:\n",
    "            try:\n",
    "                movie_data[keyword] = movie[keyword]\n",
    "            except:\n",
    "                pass\n",
    "            \n",
    "        with open(f'new_data/{movie_id}.pickle', 'wb') as f:\n",
    "            f.write(pickle.dumps(movie_data))"
   ]
  }
 ],
 "metadata": {
  "kernelspec": {
   "display_name": "Python 3",
   "language": "python",
   "name": "python3"
  },
  "language_info": {
   "codemirror_mode": {
    "name": "ipython",
    "version": 3
   },
   "file_extension": ".py",
   "mimetype": "text/x-python",
   "name": "python",
   "nbconvert_exporter": "python",
   "pygments_lexer": "ipython3",
   "version": "3.7.3"
  }
 },
 "nbformat": 4,
 "nbformat_minor": 2
}
