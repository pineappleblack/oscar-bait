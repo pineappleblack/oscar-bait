{
 "cells": [
  {
   "cell_type": "code",
   "execution_count": 1,
   "metadata": {},
   "outputs": [],
   "source": [
    "from imdb import IMDb\n",
    "from tqdm import tqdm_notebook\n",
    "\n",
    "import datetime\n",
    "import json\n",
    "import math\n",
    "import os\n",
    "import pandas as pd\n",
    "import pickle\n",
    "import re"
   ]
  },
  {
   "cell_type": "code",
   "execution_count": 2,
   "metadata": {},
   "outputs": [
    {
     "data": {
      "application/vnd.jupyter.widget-view+json": {
       "model_id": "89a3e8ac2738477b84a2b35db99d2ffa",
       "version_major": 2,
       "version_minor": 0
      },
      "text/plain": [
       "HBox(children=(IntProgress(value=0, max=148439), HTML(value='')))"
      ]
     },
     "metadata": {},
     "output_type": "display_data"
    },
    {
     "name": "stdout",
     "output_type": "stream",
     "text": [
      "\n"
     ]
    }
   ],
   "source": [
    "fns = [el for el in os.listdir('movie_data') if 'pickle' in el]\n",
    "\n",
    "data = []\n",
    "for fn in tqdm_notebook(fns):\n",
    "    with open(f'movie_data/{fn}', 'rb') as f:\n",
    "        film = pickle.loads(f.read())\n",
    "        film['id'] = fn.strip('.pickle')\n",
    "        data.append(film)"
   ]
  },
  {
   "cell_type": "code",
   "execution_count": 3,
   "metadata": {},
   "outputs": [],
   "source": [
    "with open(f'movie_data/8579674.pickle', 'rb') as f:\n",
    "    film = pickle.loads(f.read())"
   ]
  },
  {
   "cell_type": "code",
   "execution_count": 4,
   "metadata": {},
   "outputs": [],
   "source": [
    "mounth_repl = {\n",
    "    'January': 1,\n",
    "    'February': 2,\n",
    "    'March': 3,\n",
    "    'April': 4, \n",
    "    'May': 5,\n",
    "    'June': 6,\n",
    "    'July': 7,\n",
    "    'August': 8,\n",
    "    'September': 9,\n",
    "    'October': 10,\n",
    "    'November': 11,\n",
    "    'December': 12,\n",
    "}\n",
    "\n",
    "def get_date(date_string):\n",
    "    try:\n",
    "        extr_date = re.search('\\d{,2} ?\\w+ \\d{4}', date_string).group(0).split(' ')\n",
    "        extr_date[-2] = mounth_repl[extr_date[-2]]\n",
    "        extr_date = [int(el) for el in extr_date]\n",
    "        if len(extr_date) == 2:\n",
    "            extr_date = [1] + extr_date\n",
    "\n",
    "        return datetime.date(*extr_date[::-1])\n",
    "    except:\n",
    "        return 0\n",
    "    \n",
    "\n",
    "def get_days_from_year_start(release_date):\n",
    "    try:\n",
    "        date_start = datetime.date(release_date.year, 1, 1)\n",
    "        return (release_date - date_start).days\n",
    "    except:\n",
    "        return -1"
   ]
  },
  {
   "cell_type": "code",
   "execution_count": 5,
   "metadata": {},
   "outputs": [],
   "source": [
    "with open('oscars_nominees.json') as f:\n",
    "    oscars_nominees = json.loads(f.read())\n",
    "    \n",
    "oscars_nominees = {int(year):oscars_nominees[year] for year in oscars_nominees}"
   ]
  },
  {
   "cell_type": "code",
   "execution_count": 26,
   "metadata": {},
   "outputs": [
    {
     "data": {
      "application/vnd.jupyter.widget-view+json": {
       "model_id": "af8600a2a2664812afc0e73f653f1be3",
       "version_major": 2,
       "version_minor": 0
      },
      "text/plain": [
       "HBox(children=(IntProgress(value=0, max=148439), HTML(value='')))"
      ]
     },
     "metadata": {},
     "output_type": "display_data"
    },
    {
     "name": "stdout",
     "output_type": "stream",
     "text": [
      "\n"
     ]
    }
   ],
   "source": [
    "filtered_data = {}\n",
    "for film in tqdm_notebook(data):\n",
    "    needed_keys = ['keywords', 'genres', 'akas', 'release dates', 'writer', 'director', 'cast', 'distributors']\n",
    "    bad_genres = ['News', 'Talk-Show', 'Reality-TV', 'Adult', 'Game-Show']\n",
    "    \n",
    "    if 'release dates' in film:\n",
    "        year = min([int(re.search('\\d{4}', el).group(0)) for el in film['release dates']])\n",
    "        \n",
    "        if year in range(1985, 2020):\n",
    "            if year not in filtered_data:\n",
    "                filtered_data[year] = []\n",
    "            \n",
    "            if True in ['USA' in date for date in film['release dates']]:\n",
    "        \n",
    "                all_keys = True\n",
    "                for el in needed_keys:\n",
    "                    if el not in film:\n",
    "                        all_keys = False\n",
    "                        \n",
    "                if all_keys:\n",
    "                    bad_genre = False\n",
    "                    \n",
    "                    for bg in bad_genres:\n",
    "                        if bg in film['genres']:\n",
    "                            bad_genre = True\n",
    "                            \n",
    "                    dates = [date for date in film['release dates'] if ('USA' in date) == True]\n",
    "                    dates = [el for el in dates if (('(' not in el) or ('World' in el) or ('limited' in el) or ('Los Angeles, California' in el)) and\n",
    "                        ('re-release' not in el)]                    \n",
    "                    dates = [get_date(el) for el in dates if get_date(el) != 0]\n",
    "                    \n",
    "                    days_from_year_start = [get_days_from_year_start(date) for date in dates if get_days_from_year_start(date) != -1]\n",
    "                    \n",
    "                    if not bad_genre and len(days_from_year_start) > 0:\n",
    "                        \n",
    "                        days_from_year_start = max(days_from_year_start)\n",
    "                        \n",
    "                        needed_data = {}\n",
    "                        needed_data['year'] = year\n",
    "                        needed_data['genres'] = film['genres']\n",
    "                        needed_data['distributors'] = film['distributors']\n",
    "                        needed_data['akas'] = film['akas']\n",
    "                        needed_data['keywords'] = [kw for kw in film['keywords'] \n",
    "                                                    if ('oscar' not in kw and 'title' not in kw \n",
    "                                                        and 'credit' not in kw and 'award' not in kw\n",
    "                                                        and 'winner' not in kw\n",
    "                                                    )]                        \n",
    "                        needed_data['names'] = film['akas']\n",
    "                        needed_data['release dates'] = film['release dates']\n",
    "                        needed_data['good dates'] = dates\n",
    "                        \n",
    "                        needed_data['n_genres'] = len(film['genres'])\n",
    "                        needed_data['n_keywords'] = len(needed_data['keywords'])\n",
    "                        needed_data['days_from_year_start'] = days_from_year_start\n",
    "                        \n",
    "                        needed_data['writer'] = film['writer']\n",
    "                        needed_data['director'] = film['director']\n",
    "                        needed_data['cast'] = film['cast']\n",
    "                        \n",
    "                        needed_data['id'] = film['id']\n",
    "                        \n",
    "                        if 'certificates' in film:\n",
    "                            try:\n",
    "                                needed_data['mpaa_r'] = [sert.split(':')[-1] for sert in film['certificates'] if 'United States' in sert][0]\n",
    "                                if needed_data['mpaa_r'] == 'R':\n",
    "                                    needed_data['mpaa_r'] = 1\n",
    "                                else:\n",
    "                                    needed_data['mpaa_r'] = 0\n",
    "                            except:\n",
    "                                pass\n",
    "                        \n",
    "                        if 'mpaa_r' not in needed_data:\n",
    "                            needed_data['mpaa_r'] = -1\n",
    "\n",
    "                        if 'awards' in film:\n",
    "                            needed_data['n_oscars_nom'] = len([award['award'] for award in film['awards'] \n",
    "                                                               if award['award'] == 'Oscar' and 'notes' in award and\n",
    "                                                               ('Act' in award['notes'] or 'Direct' in award['notes'] \n",
    "                                                                   or 'Writ' in award['notes'] or 'Best Motion Picture of the Year' in award['notes']\n",
    "                                                                   or award['notes'] == 'Best Picture')\\\n",
    "                                                                   and 'Art' not in award['notes'] and 'Music' not in award['notes']])\n",
    "                            needed_data['n_oscars_wins'] = len([award['award'] for award in film['awards'] \n",
    "                                                               if award['award'] == 'Oscar' and 'notes' in award and\n",
    "                                                               ('Act' in award['notes'] or 'Direct' in award['notes'] \n",
    "                                                                   or 'Writ' in award['notes'] or 'Best Motion Picture of the Year' in award['notes']\n",
    "                                                                   or award['notes'] == 'Best Picture')\\\n",
    "                                                                   and 'Art' not in award['notes'] and 'Music' not in award['notes'] and award['result'] == 'Winner'])\n",
    "                            \n",
    "                            needed_data['all_oscars_nom'] = len([award['award'] for award in film['awards'] if award['award'] == 'Oscar'])\n",
    "                            needed_data['oscars_wins'] = len([award['award'] for award in film['awards'] if award['award'] == 'Oscar'\n",
    "                                                             and award['result'] == 'Winner'])\n",
    "                            \n",
    "                            needed_data['best_pic_nominee'] = len([award['award'] for award in film['awards'] if award['award'] == 'Oscar' \n",
    "                                      and ('Best Motion Picture of the Year' in award['notes'] or award['notes'] == 'Best Picture')])\n",
    "                            needed_data['best_pic_winner'] = len([award['award'] for award in film['awards'] if award['award'] == 'Oscar' \n",
    "                                      and ('Best Motion Picture of the Year' in award['notes'] or award['notes'] == 'Best Picture') and award['result'] == 'Winner'])\n",
    "                        else:\n",
    "                            needed_data['n_oscars_nom'] = 0\n",
    "                            needed_data['n_oscars_wins'] = 0\n",
    "                            needed_data['all_oscars_nom'] = 0\n",
    "                            needed_data['oscars_wins'] = 0\n",
    "                            needed_data['best_pic_nominee'] = 0 \n",
    "                            needed_data['best_pic_winner'] = 0\n",
    "    \n",
    "                        if len(needed_data['keywords']) > 10:\n",
    "                            filtered_data[year].append(needed_data)"
   ]
  },
  {
   "cell_type": "code",
   "execution_count": 8,
   "metadata": {},
   "outputs": [],
   "source": [
    "# '1950186' in [el['id'] for el in filtered_data[2019]]"
   ]
  },
  {
   "cell_type": "code",
   "execution_count": 27,
   "metadata": {},
   "outputs": [
    {
     "data": {
      "text/plain": [
       "14279"
      ]
     },
     "execution_count": 27,
     "metadata": {},
     "output_type": "execute_result"
    }
   ],
   "source": [
    "len([film for c_year in filtered_data for film in filtered_data[c_year]])"
   ]
  },
  {
   "cell_type": "code",
   "execution_count": 28,
   "metadata": {},
   "outputs": [
    {
     "data": {
      "application/vnd.jupyter.widget-view+json": {
       "model_id": "c2fe9755eec04190ba61ad0ab7a0ce25",
       "version_major": 2,
       "version_minor": 0
      },
      "text/plain": [
       "HBox(children=(IntProgress(value=0, max=35), HTML(value='')))"
      ]
     },
     "metadata": {},
     "output_type": "display_data"
    },
    {
     "name": "stdout",
     "output_type": "stream",
     "text": [
      "\n"
     ]
    }
   ],
   "source": [
    "# How much keywords was appeared in recent 5 years for every year\n",
    "\n",
    "cnt_keywords_n = {}\n",
    "\n",
    "for f_year in tqdm_notebook(filtered_data):\n",
    "    for film in filtered_data[f_year]:\n",
    "        for year in range(film['year']+1, film['year']+6):\n",
    "            if year not in cnt_keywords_n:\n",
    "                cnt_keywords_n[year] = {}\n",
    "            for kw in film['keywords']:\n",
    "                if kw not in cnt_keywords_n[year]:\n",
    "                    cnt_keywords_n[year][kw] = 0\n",
    "                cnt_keywords_n[year][kw] += 1"
   ]
  },
  {
   "cell_type": "code",
   "execution_count": 29,
   "metadata": {},
   "outputs": [
    {
     "data": {
      "application/vnd.jupyter.widget-view+json": {
       "model_id": "eecfbac98537486a89460af30ae2c868",
       "version_major": 2,
       "version_minor": 0
      },
      "text/plain": [
       "HBox(children=(IntProgress(value=0, max=35), HTML(value='')))"
      ]
     },
     "metadata": {},
     "output_type": "display_data"
    },
    {
     "name": "stdout",
     "output_type": "stream",
     "text": [
      "\n"
     ]
    }
   ],
   "source": [
    "# How much genres was appeared in recent 5 years for every year\n",
    "\n",
    "cnt_genres_n = {}\n",
    "for f_year in tqdm_notebook(filtered_data):\n",
    "    for film in filtered_data[f_year]:\n",
    "        for year in range(film['year']+1, film['year']+6):\n",
    "            if year not in cnt_genres_n:\n",
    "                cnt_genres_n[year] = {}\n",
    "            for kw in film['genres']:\n",
    "                if kw not in cnt_genres_n[year]:\n",
    "                    cnt_genres_n[year][kw] = 0\n",
    "                cnt_genres_n[year][kw] += 1"
   ]
  },
  {
   "cell_type": "code",
   "execution_count": 30,
   "metadata": {},
   "outputs": [
    {
     "data": {
      "application/vnd.jupyter.widget-view+json": {
       "model_id": "054473690937412d921a4f11e02a264b",
       "version_major": 2,
       "version_minor": 0
      },
      "text/plain": [
       "HBox(children=(IntProgress(value=0, max=35), HTML(value='')))"
      ]
     },
     "metadata": {},
     "output_type": "display_data"
    },
    {
     "name": "stdout",
     "output_type": "stream",
     "text": [
      "\n"
     ]
    }
   ],
   "source": [
    "# Count lambda for every keyword for every year\n",
    "\n",
    "cnt_keywords_lambda = {}\n",
    "keywords_film_names = {}\n",
    "\n",
    "for f_year in tqdm_notebook(filtered_data):\n",
    "    for film in filtered_data[f_year]:\n",
    "        for kw in film['keywords']:\n",
    "            for year in range(f_year+1, f_year+6):\n",
    "                if year not in cnt_keywords_lambda:\n",
    "                    cnt_keywords_lambda[year] = {}\n",
    "                if kw not in cnt_keywords_lambda[year]:\n",
    "                    cnt_keywords_lambda[year][kw] = 0\n",
    "                    \n",
    "                k = film['n_oscars_nom']\n",
    "                n_ji = film['n_keywords']\n",
    "                n_ij = cnt_keywords_n[year][kw]\n",
    "                \n",
    "                if k > 0:\n",
    "                    if year not in keywords_film_names:\n",
    "                        keywords_film_names[year] = {}\n",
    "                    if kw not in keywords_film_names[year]:\n",
    "                        keywords_film_names[year][kw] = []\n",
    "                    keywords_film_names[year][kw].append([film['id'], k])\n",
    "                \n",
    "                cnt_keywords_lambda[year][kw] += math.log(k + math.sqrt(k ** 2 + 1)) / (math.sqrt(n_ji) * n_ij)"
   ]
  },
  {
   "cell_type": "code",
   "execution_count": 31,
   "metadata": {},
   "outputs": [],
   "source": [
    "# with open('keywords-ids.json', 'w') as f:\n",
    "#     f.write(json.dumps(keywords_film_names))"
   ]
  },
  {
   "cell_type": "code",
   "execution_count": 32,
   "metadata": {},
   "outputs": [],
   "source": [
    "# with open('keywords-lambdas.json', 'w') as f:\n",
    "#     f.write(json.dumps(cnt_keywords_lambda))"
   ]
  },
  {
   "cell_type": "code",
   "execution_count": 33,
   "metadata": {},
   "outputs": [
    {
     "data": {
      "application/vnd.jupyter.widget-view+json": {
       "model_id": "391ecb0563b34b00a223486d2ab830e9",
       "version_major": 2,
       "version_minor": 0
      },
      "text/plain": [
       "HBox(children=(IntProgress(value=0, max=35), HTML(value='')))"
      ]
     },
     "metadata": {},
     "output_type": "display_data"
    },
    {
     "name": "stdout",
     "output_type": "stream",
     "text": [
      "\n"
     ]
    }
   ],
   "source": [
    "# Count lambda for every genre for every year\n",
    "\n",
    "cnt_genres_lambda = {}\n",
    "\n",
    "for f_year in tqdm_notebook(filtered_data):\n",
    "    for film in filtered_data[f_year]:\n",
    "        for kw in film['genres']:\n",
    "            for year in range(f_year+1, f_year+6):\n",
    "                if year not in cnt_genres_lambda:\n",
    "                    cnt_genres_lambda[year] = {}\n",
    "                if kw not in cnt_genres_lambda[year]:\n",
    "                    cnt_genres_lambda[year][kw] = 0\n",
    "                    \n",
    "                k = film['n_oscars_nom']\n",
    "                n_ji = film['n_genres']\n",
    "                n_ij = cnt_genres_n[year][kw]\n",
    "                \n",
    "                cnt_genres_lambda[year][kw] += math.log(k + math.sqrt(k ** 2 + 1)) / (math.sqrt(n_ji) * n_ij)"
   ]
  },
  {
   "cell_type": "code",
   "execution_count": 34,
   "metadata": {},
   "outputs": [],
   "source": [
    "# Count tau for every film's genres and keywords\n",
    "\n",
    "for year in filtered_data:\n",
    "    for film in filtered_data[year]:\n",
    "        film['genres_tau'] = 0\n",
    "        for genre in film['genres']:\n",
    "            try:\n",
    "                film['genres_tau'] += cnt_genres_lambda[year][genre]\n",
    "            except:\n",
    "                pass \n",
    "        \n",
    "        film['keywords_tau'] = []\n",
    "        for genre in film['keywords']:\n",
    "            try:\n",
    "                film['keywords_tau'].append(cnt_keywords_lambda[year][genre])\n",
    "            except:\n",
    "                pass\n",
    "            \n",
    "        film['keywords_tau'] = sum(sorted(film['keywords_tau'], reverse=True)[:20])"
   ]
  },
  {
   "cell_type": "code",
   "execution_count": 35,
   "metadata": {},
   "outputs": [
    {
     "data": {
      "application/vnd.jupyter.widget-view+json": {
       "model_id": "c1f822339e004788b8b954cf8088c65c",
       "version_major": 2,
       "version_minor": 0
      },
      "text/plain": [
       "HBox(children=(IntProgress(value=0, max=35), HTML(value='')))"
      ]
     },
     "metadata": {},
     "output_type": "display_data"
    },
    {
     "name": "stdout",
     "output_type": "stream",
     "text": [
      "\n"
     ]
    }
   ],
   "source": [
    "# Check how many actors, directors and writers were nomineed in recent 5 years\n",
    "\n",
    "for year in tqdm_notebook(filtered_data):\n",
    "    for film in filtered_data[year]:\n",
    "        film['actors_nomineed'] = 0\n",
    "        film['directors_nomineed'] = 0\n",
    "        film['writers_nomineed'] = 0\n",
    "        \n",
    "        for actor in film['cast']:\n",
    "            for o_year in range(year-5, year):\n",
    "                if o_year in oscars_nominees:\n",
    "                    if actor.personID in oscars_nominees[o_year]:\n",
    "                        film['actors_nomineed'] += 1\n",
    "        \n",
    "        for director in film['director']:\n",
    "            for o_year in range(year-5, year):\n",
    "                if o_year in oscars_nominees:\n",
    "                    if director.personID in oscars_nominees[o_year]:\n",
    "                        film['directors_nomineed'] += 1\n",
    "        \n",
    "        for writer in film['writer']:\n",
    "            for o_year in range(year-5, year):\n",
    "                if o_year in oscars_nominees:\n",
    "                    if writer.personID in oscars_nominees[o_year]:\n",
    "                        film['writers_nomineed'] += 1"
   ]
  },
  {
   "cell_type": "code",
   "execution_count": 36,
   "metadata": {},
   "outputs": [
    {
     "data": {
      "application/vnd.jupyter.widget-view+json": {
       "model_id": "9b7015ffe8ef416c87901afb5eceaf86",
       "version_major": 2,
       "version_minor": 0
      },
      "text/plain": [
       "HBox(children=(IntProgress(value=0, max=35), HTML(value='')))"
      ]
     },
     "metadata": {},
     "output_type": "display_data"
    },
    {
     "name": "stdout",
     "output_type": "stream",
     "text": [
      "\n"
     ]
    }
   ],
   "source": [
    "# Check if any major or indimajor studios distributed film\n",
    "\n",
    "major_studios = [\n",
    "    \"Columbia Pictures\", \n",
    "    \"Columbia TriStar Film Distributors International\",\n",
    "    \"Metro-Goldwyn-Mayer\",\n",
    "    \"Orion Pictures Corporation\",\n",
    "    \"Paramount Pictures\",\n",
    "    \"Sony Pictures Entertainment\",\n",
    "    \"TriStar Pictures\",\n",
    "    \"Century Fox\",\n",
    "    \"United Artists\",\n",
    "    \"Universal Pictures\",\n",
    "    \"Warner Bros. Pictures\",\n",
    "    \"Warner Brothers\",\n",
    "    \"DreamWorks\"\n",
    "]\n",
    "\n",
    "indimajor_studios = [\n",
    "    \"Fox Searchlight Pictures\", \n",
    "    \"Focus Features\", \n",
    "    \"Sony Pictures Classics\", \n",
    "    \"Warner Independent Pictures\",\n",
    "    \"Dimension Films\",\n",
    "    \"Miramax\",\n",
    "    \"Samuel Goldwyn Company\",\n",
    "    \"New Line Cinema\",\n",
    "    \"Fine Line Features\"\n",
    "]\n",
    "\n",
    "for year in tqdm_notebook(filtered_data):\n",
    "    for film in filtered_data[year]:\n",
    "        film['major'] = 0\n",
    "        film['indimajor'] = 0\n",
    "        \n",
    "        for el in indimajor_studios:\n",
    "            for dist in film['distributors']:\n",
    "                if dist['name'] in el:\n",
    "                    film['indimajor'] = 1\n",
    "        \n",
    "        if film['indimajor'] == 0:\n",
    "            for el in major_studios:\n",
    "                for dist in film['distributors']:\n",
    "                    if dist['name'] in el:\n",
    "                        film['major'] = 1"
   ]
  },
  {
   "cell_type": "code",
   "execution_count": 37,
   "metadata": {},
   "outputs": [
    {
     "data": {
      "text/plain": [
       "14279"
      ]
     },
     "execution_count": 37,
     "metadata": {},
     "output_type": "execute_result"
    }
   ],
   "source": [
    "len([film for c_year in filtered_data for film in filtered_data[c_year]])"
   ]
  },
  {
   "cell_type": "code",
   "execution_count": 38,
   "metadata": {},
   "outputs": [
    {
     "data": {
      "application/vnd.jupyter.widget-view+json": {
       "model_id": "7258fe64772f4bd38b3c73c477c4b390",
       "version_major": 2,
       "version_minor": 0
      },
      "text/plain": [
       "HBox(children=(IntProgress(value=0, max=35), HTML(value='')))"
      ]
     },
     "metadata": {},
     "output_type": "display_data"
    },
    {
     "name": "stdout",
     "output_type": "stream",
     "text": [
      "\n"
     ]
    }
   ],
   "source": [
    "# Creating actual dataset\n",
    "\n",
    "features = ['genres_tau', 'keywords_tau', 'actors_nomineed', 'directors_nomineed', 'writers_nomineed', 'major', 'indimajor', 'days_from_year_start', 'mpaa_r',\n",
    "            'best_pic_winner', 'best_pic_nominee']\n",
    "additional_info = ['russian_title', 'original_title', 'year', 'id', 'all_oscars_nom', 'oscars_wins', 'genres', 'n_oscars_wins']\n",
    "\n",
    "country_names = ['USA', 'UK', 'World-wide', 'Singapore', 'Hong Kong', 'Canada', 'Italy', 'France', 'India', 'Japan', 'Malaysia', 'Europe', 'New Zeland',\n",
    "                 'Ireland', 'Jamaica', 'Bangladesh']\n",
    "\n",
    "new_data = []\n",
    "for year in tqdm_notebook(filtered_data):\n",
    "    for film in filtered_data[year]:\n",
    "        new_film = {}\n",
    "        \n",
    "        for feature in features:\n",
    "            new_film[feature] = film[feature]\n",
    "        \n",
    "        # value\n",
    "        new_film['n_oscars_nom'] = film['n_oscars_nom']\n",
    "        \n",
    "        # additional info\n",
    "        new_film['year'] = film['year']\n",
    "        new_film['id'] = film['id']\n",
    "        new_film['all_oscars_nom'] = film['all_oscars_nom']\n",
    "        new_film['oscars_wins'] = film['oscars_wins']\n",
    "        new_film['genres'] = film['genres']\n",
    "        new_film['best_pic_nominee'] = film['best_pic_nominee']\n",
    "        new_film['best_pic_winner'] = film['best_pic_winner']\n",
    "        new_film['n_oscars_wins'] = film['n_oscars_wins']\n",
    "        \n",
    "        try:\n",
    "            new_film['russian_title'] = [el.split('Russia')[0].split('Soviet')[0].strip() for el in film['akas'] if 'Russia' in el][0]\n",
    "        except:\n",
    "            pass\n",
    "        try:\n",
    "            new_film['original_title'] = [el.split('(')[0].strip() for el in film['akas'] \n",
    "                                          if 'USA' in el or 'UK' in el or 'English' in el or 'World-wide' in el][0]\n",
    "            for country_name in country_names:\n",
    "                new_film['original_title'] = new_film['original_title'].split(f' {country_name}')[0]\n",
    "                \n",
    "        except:\n",
    "            try:\n",
    "                new_film['original_title'] = [el.split('(')[0].strip() for el in film['akas'] if 'original title' in el][0]\n",
    "            except:    \n",
    "                new_film['original_title'] = film['akas'][0].split('(')[0].strip()\n",
    "                \n",
    "        if film['year'] > 1989:\n",
    "            new_data.append(new_film)"
   ]
  },
  {
   "cell_type": "code",
   "execution_count": 39,
   "metadata": {},
   "outputs": [],
   "source": [
    "df = pd.DataFrame(new_data)[[*additional_info, *features, 'n_oscars_nom']]"
   ]
  },
  {
   "cell_type": "code",
   "execution_count": 40,
   "metadata": {},
   "outputs": [],
   "source": [
    "# Я тут делаю слпайны — так в оригинальном эксперименте, который я повторяю\n",
    "\n",
    "df['actors_nomineed'] = df.apply(lambda row: 1 if row['actors_nomineed'] > 0 else 0, axis=1)\n",
    "df['directors_nomineed'] = df.apply(lambda row: 1 if row['directors_nomineed'] > 0 else 0, axis=1)\n",
    "df['writers_nomineed'] = df.apply(lambda row: 1 if row['writers_nomineed'] > 0 else 0, axis=1)\n",
    "\n",
    "df['dy_1'] = 0\n",
    "df['dy_2'] = 0\n",
    "df['dy_3'] = 0"
   ]
  },
  {
   "cell_type": "code",
   "execution_count": 41,
   "metadata": {},
   "outputs": [
    {
     "data": {
      "application/vnd.jupyter.widget-view+json": {
       "model_id": "031941c170f244f7bdac53a6498a5fc8",
       "version_major": 2,
       "version_minor": 0
      },
      "text/plain": [
       "HBox(children=(IntProgress(value=1, bar_style='info', max=1), HTML(value='')))"
      ]
     },
     "metadata": {},
     "output_type": "display_data"
    },
    {
     "name": "stdout",
     "output_type": "stream",
     "text": [
      "\n"
     ]
    }
   ],
   "source": [
    "for i, row in tqdm_notebook(df.iterrows()):\n",
    "    if row['days_from_year_start'] < 181:\n",
    "        df.loc[i, 'dy_1'] = row['days_from_year_start']\n",
    "    elif row['days_from_year_start'] < 321:\n",
    "        df.loc[i, 'dy_1'] = 180\n",
    "        df.loc[i, 'dy_2'] = row['days_from_year_start'] - 180\n",
    "    else:\n",
    "        df.loc[i, 'dy_1'] = 180\n",
    "        df.loc[i, 'dy_2'] = 140\n",
    "        df.loc[i, 'dy_3'] = row['days_from_year_start'] - 320"
   ]
  },
  {
   "cell_type": "code",
   "execution_count": 42,
   "metadata": {},
   "outputs": [
    {
     "data": {
      "application/vnd.jupyter.widget-view+json": {
       "model_id": "63b8b349cce54f0b89dca12d5c392467",
       "version_major": 2,
       "version_minor": 0
      },
      "text/plain": [
       "HBox(children=(IntProgress(value=1, bar_style='info', max=1), HTML(value='')))"
      ]
     },
     "metadata": {},
     "output_type": "display_data"
    },
    {
     "name": "stdout",
     "output_type": "stream",
     "text": [
      "\n"
     ]
    }
   ],
   "source": [
    "# И ещё сплайны\n",
    "\n",
    "years = df['year'].unique()\n",
    "genres_median = {year: df[df['year']==year]['genres_tau'].median() for year in years}\n",
    "keywords_median = {year: df[df['year']==year]['keywords_tau'].median() for year in years}\n",
    "\n",
    "df['gr_low'] = 0\n",
    "df['gr_high'] = 0\n",
    "df['kw_low'] = 0\n",
    "df['kw_high'] = 0\n",
    "\n",
    "for i, row in tqdm_notebook(df.iterrows()):\n",
    "    year = row['year']\n",
    "    if row['genres_tau'] < genres_median[year]:\n",
    "        df.loc[i, 'gr_low'] = row['genres_tau']\n",
    "    else:\n",
    "        df.loc[i, 'gr_low'] = genres_median[year]\n",
    "        df.loc[i, 'gr_high'] = row['genres_tau'] - genres_median[year]\n",
    "        \n",
    "    if row['keywords_tau'] < keywords_median[year]:\n",
    "        df.loc[i, 'kw_low'] = row['keywords_tau']\n",
    "    else:\n",
    "        df.loc[i, 'kw_low'] = keywords_median[year]\n",
    "        df.loc[i, 'kw_high'] = row['keywords_tau'] - keywords_median[year]"
   ]
  },
  {
   "cell_type": "code",
   "execution_count": 43,
   "metadata": {},
   "outputs": [],
   "source": [
    "with open('budget-data.json') as f:\n",
    "    budget_raw = json.loads(f.read())\n",
    "\n",
    "budget = {}\n",
    "for _id in budget_raw:\n",
    "    budget[_id] = {}\n",
    "    budget[_id]['votes'] = budget_raw[_id]['votes']\n",
    "    if isinstance(budget_raw[_id]['box office'], dict):\n",
    "        if 'Budget' in budget_raw[_id]['box office']:\n",
    "            if '$' in budget_raw[_id]['box office']['Budget']:\n",
    "                budget[_id]['budget'] = ''.join(re.findall('\\d', budget_raw[_id]['box office']['Budget'].split(' ')[0]))\n",
    "        if 'Cumulative Worldwide Gross' in budget_raw[_id]['box office']:\n",
    "            if '$' in budget_raw[_id]['box office']['Cumulative Worldwide Gross']:\n",
    "                budget[_id]['box'] = ''.join(re.findall('\\d', budget_raw[_id]['box office']['Cumulative Worldwide Gross'].split(' ')[0]))    \n",
    "    \n",
    "budget_df = pd.DataFrame(budget).T\n",
    "budget_df.index.name = 'id'"
   ]
  },
  {
   "cell_type": "code",
   "execution_count": 44,
   "metadata": {},
   "outputs": [],
   "source": [
    "df = pd.merge(budget_df, df, on='id')"
   ]
  },
  {
   "cell_type": "code",
   "execution_count": 45,
   "metadata": {},
   "outputs": [],
   "source": [
    "df.to_csv('ML_data.csv', index=False)"
   ]
  },
  {
   "cell_type": "code",
   "execution_count": 46,
   "metadata": {},
   "outputs": [
    {
     "data": {
      "text/plain": [
       "12717"
      ]
     },
     "execution_count": 46,
     "metadata": {},
     "output_type": "execute_result"
    }
   ],
   "source": [
    "len(df)"
   ]
  },
  {
   "cell_type": "code",
   "execution_count": null,
   "metadata": {},
   "outputs": [],
   "source": []
  }
 ],
 "metadata": {
  "kernelspec": {
   "display_name": "Python 3",
   "language": "python",
   "name": "python3"
  },
  "language_info": {
   "codemirror_mode": {
    "name": "ipython",
    "version": 3
   },
   "file_extension": ".py",
   "mimetype": "text/x-python",
   "name": "python",
   "nbconvert_exporter": "python",
   "pygments_lexer": "ipython3",
   "version": "3.7.3"
  }
 },
 "nbformat": 4,
 "nbformat_minor": 2
}
