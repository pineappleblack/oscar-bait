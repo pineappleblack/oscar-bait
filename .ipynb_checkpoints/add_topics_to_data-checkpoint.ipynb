{
 "cells": [
  {
   "cell_type": "code",
   "execution_count": 1,
   "metadata": {},
   "outputs": [],
   "source": [
    "from tqdm import tqdm_notebook\n",
    "\n",
    "import json\n",
    "import pandas as pd\n",
    "import pickle"
   ]
  },
  {
   "cell_type": "code",
   "execution_count": 2,
   "metadata": {},
   "outputs": [],
   "source": [
    "with open('topics.json') as f:\n",
    "    topics = json.loads(f.read())"
   ]
  },
  {
   "cell_type": "code",
   "execution_count": 3,
   "metadata": {},
   "outputs": [],
   "source": [
    "mydata = pd.read_csv('ML_data.csv', dtype={'id': 'str'})"
   ]
  },
  {
   "cell_type": "code",
   "execution_count": 4,
   "metadata": {},
   "outputs": [
    {
     "data": {
      "application/vnd.jupyter.widget-view+json": {
       "model_id": "05e677bcb118471da32e566a8b634082",
       "version_major": 2,
       "version_minor": 0
      },
      "text/plain": [
       "HBox(children=(IntProgress(value=0, max=12717), HTML(value='')))"
      ]
     },
     "metadata": {},
     "output_type": "display_data"
    },
    {
     "name": "stdout",
     "output_type": "stream",
     "text": [
      "\n"
     ]
    }
   ],
   "source": [
    "themes = {}\n",
    "ids = [el for el in list(mydata['id']) if el != '1']\n",
    "film_kwds = {}\n",
    "\n",
    "for _id in tqdm_notebook(ids):\n",
    "    with open(f'movie_data/{_id}.pickle', 'rb') as f:\n",
    "        file = pickle.loads(f.read())\n",
    "    themes[_id] = []\n",
    "    film_kwds[_id] = {}\n",
    "        \n",
    "    for topic in topics:\n",
    "        for word in topics[topic]:\n",
    "            if word in file['keywords']:\n",
    "                themes[_id].append(topic)\n",
    "                if f'{topic}_kwds' not in film_kwds[_id]:\n",
    "                    film_kwds[_id][f'{topic}_kwds' ] = []\n",
    "                film_kwds[_id][f'{topic}_kwds'].append(word)\n",
    "                \n",
    "    themes[_id] = ', '.join(themes[_id])\n",
    "    themes[_id] = str(list(set(themes[_id].split(', '))))"
   ]
  },
  {
   "cell_type": "code",
   "execution_count": 5,
   "metadata": {},
   "outputs": [],
   "source": [
    "df_kwds = pd.DataFrame(film_kwds).T\n",
    "df_kwds.index.name = 'id'\n",
    "\n",
    "df_themes = pd.DataFrame(themes, index=['problems']).T\n",
    "df_themes.index.name = 'id'"
   ]
  },
  {
   "cell_type": "code",
   "execution_count": 6,
   "metadata": {},
   "outputs": [],
   "source": [
    "data_final = pd.merge(mydata, df_themes, on='id', how='outer')\n",
    "data_final = pd.merge(data_final, df_kwds, on='id', how='outer')"
   ]
  },
  {
   "cell_type": "code",
   "execution_count": 7,
   "metadata": {},
   "outputs": [],
   "source": [
    "data_final.to_csv('data_with_topics.csv', index=False)"
   ]
  },
  {
   "cell_type": "code",
   "execution_count": 15,
   "metadata": {},
   "outputs": [],
   "source": [
    "bait_winners = data_final[(data_final['n_oscars_wins'] > 0)]"
   ]
  },
  {
   "cell_type": "code",
   "execution_count": 16,
   "metadata": {},
   "outputs": [],
   "source": [
    "all_cinema = len(data_final)\n",
    "all_bait = len(bait_winners)"
   ]
  },
  {
   "cell_type": "code",
   "execution_count": 17,
   "metadata": {},
   "outputs": [],
   "source": [
    "themes_percents = {}\n",
    "for theme in ['race', 'lgbt', 'female', 'nazism', 'religion', 'all']:\n",
    "    themes_percents[theme] = {}\n",
    "\n",
    "    \n",
    "themes_percents['race']['bait'] = len([el for el in bait_winners['problems'].str.contains('rac') if el == True]) / all_bait\n",
    "themes_percents['race']['all'] = len([el for el in data_final['problems'].str.contains('rac') if el == True]) / all_cinema\n",
    "\n",
    "themes_percents['lgbt']['bait'] = len([el for el in bait_winners['problems'].str.contains('lgbt') if el == True]) / all_bait\n",
    "themes_percents['lgbt']['all'] = len([el for el in data_final['problems'].str.contains('lgbt') if el == True]) / all_cinema\n",
    "\n",
    "themes_percents['female']['bait'] = len([el for el in bait_winners['problems'].str.contains('female') if el == True]) / all_bait\n",
    "themes_percents['female']['all'] = len([el for el in data_final['problems'].str.contains('female') if el == True]) / all_cinema\n",
    "\n",
    "themes_percents['nazism']['bait'] = len([el for el in bait_winners['problems'].str.contains('nazism') if el == True]) / all_bait\n",
    "themes_percents['nazism']['all'] = len([el for el in data_final['problems'].str.contains('nazism') if el == True]) / all_cinema\n",
    "\n",
    "themes_percents['religion']['bait'] = len([el for el in bait_winners['problems'].str.contains('religion') if el == True]) / all_bait\n",
    "themes_percents['religion']['all'] = len([el for el in data_final['problems'].str.contains('religion') if el == True]) / all_cinema"
   ]
  },
  {
   "cell_type": "code",
   "execution_count": 18,
   "metadata": {},
   "outputs": [],
   "source": [
    "all_bait_words = bait_winners['problems'].str.contains('religion') | \\\n",
    "bait_winners['problems'].str.contains('lgbt') | \\\n",
    "bait_winners['problems'].str.contains('nazism') | \\\n",
    "bait_winners['problems'].str.contains('rac') | \\\n",
    "bait_winners['problems'].str.contains('female')"
   ]
  },
  {
   "cell_type": "code",
   "execution_count": 19,
   "metadata": {},
   "outputs": [],
   "source": [
    "all_words = data_final['problems'].str.contains('religion') | \\\n",
    "data_final['problems'].str.contains('lgbt') | \\\n",
    "data_final['problems'].str.contains('nazism') | \\\n",
    "data_final['problems'].str.contains('rac') | \\\n",
    "data_final['problems'].str.contains('female')"
   ]
  },
  {
   "cell_type": "code",
   "execution_count": 20,
   "metadata": {},
   "outputs": [],
   "source": [
    "themes_percents['all']['bait'] = len([el for el in all_bait_words if el == True]) / all_bait\n",
    "themes_percents['all']['all'] = len([el for el in all_words if el == True]) / all_cinema"
   ]
  },
  {
   "cell_type": "code",
   "execution_count": 21,
   "metadata": {},
   "outputs": [],
   "source": [
    "pd.DataFrame(themes_percents).to_csv('themes_percent.csv')"
   ]
  },
  {
   "cell_type": "code",
   "execution_count": null,
   "metadata": {},
   "outputs": [],
   "source": []
  }
 ],
 "metadata": {
  "kernelspec": {
   "display_name": "Python 3",
   "language": "python",
   "name": "python3"
  },
  "language_info": {
   "codemirror_mode": {
    "name": "ipython",
    "version": 3
   },
   "file_extension": ".py",
   "mimetype": "text/x-python",
   "name": "python",
   "nbconvert_exporter": "python",
   "pygments_lexer": "ipython3",
   "version": "3.7.3"
  }
 },
 "nbformat": 4,
 "nbformat_minor": 2
}
